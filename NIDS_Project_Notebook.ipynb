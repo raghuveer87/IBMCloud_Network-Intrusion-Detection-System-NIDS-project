{
 "cells": [
  {
   "cell_type": "markdown",
   "id": "c971aa1e",
   "metadata": {},
   "source": [
    "# Network Intrusion Detection System using Machine Learning\n",
    "This notebook demonstrates how to build a network intrusion detection system (NIDS) using a machine learning model on the Kaggle dataset."
   ]
  },
  {
   "cell_type": "code",
   "execution_count": null,
   "id": "5060d13d",
   "metadata": {},
   "outputs": [],
   "source": [
    "# Install necessary packages (if running in cloud environment like IBM Watson Studio)\n",
    "# !pip install pandas scikit-learn matplotlib seaborn\n",
    "\n",
    "import pandas as pd\n",
    "import numpy as np\n",
    "import matplotlib.pyplot as plt\n",
    "import seaborn as sns\n",
    "from sklearn.model_selection import train_test_split\n",
    "from sklearn.ensemble import RandomForestClassifier\n",
    "from sklearn.metrics import classification_report, confusion_matrix, accuracy_score\n"
   ]
  },
  {
   "cell_type": "code",
   "execution_count": null,
   "id": "75ed5d5d",
   "metadata": {},
   "outputs": [],
   "source": [
    "# Load the dataset\n",
    "df = pd.read_csv(\"Test_data.csv\")  \n",
    "df.head()\n"
   ]
  },
  {
   "cell_type": "code",
   "execution_count": null,
   "id": "a4e91000",
   "metadata": {},
   "outputs": [],
   "source": [
    "# Encode labels and preprocess data\n",
    "from sklearn.preprocessing import LabelEncoder\n",
    "\n",
    "df.fillna(0, inplace=True)\n",
    "le = LabelEncoder()\n",
    "df['label'] = le.fit_transform(df['class'])  # assuming 'class' is the target column\n",
    "\n",
    "X = df.drop(columns=['class', 'label'])  # Features\n",
    "y = df['label']  # Encoded target\n",
    "\n",
    "X_train, X_test, y_train, y_test = train_test_split(X, y, test_size=0.3, random_state=42)\n"
   ]
  },
  {
   "cell_type": "code",
   "execution_count": null,
   "id": "c7dc38e1",
   "metadata": {},
   "outputs": [],
   "source": [
    "# Train a Random Forest model\n",
    "model = RandomForestClassifier(n_estimators=100, random_state=42)\n",
    "model.fit(X_train, y_train)\n",
    "\n",
    "y_pred = model.predict(X_test)\n"
   ]
  },
  {
   "cell_type": "code",
   "execution_count": null,
   "id": "cf9e170e",
   "metadata": {},
   "outputs": [],
   "source": [
    "# Evaluate the model\n",
    "print(\"Accuracy:\", accuracy_score(y_test, y_pred))\n",
    "print(\"\\nClassification Report:\\n\", classification_report(y_test, y_pred))\n"
   ]
  },
  {
   "cell_type": "code",
   "execution_count": null,
   "id": "6fd4f8cd",
   "metadata": {},
   "outputs": [],
   "source": [
    "# Plot confusion matrix\n",
    "cm = confusion_matrix(y_test, y_pred)\n",
    "plt.figure(figsize=(10, 6))\n",
    "sns.heatmap(cm, annot=True, fmt='d', cmap='Blues')\n",
    "plt.title('Confusion Matrix')\n",
    "plt.xlabel('Predicted')\n",
    "plt.ylabel('Actual')\n",
    "plt.show()\n"
   ]
  }
 ],
 "metadata": {
  "language_info": {
   "name": "python"
  }
 },
 "nbformat": 4,
 "nbformat_minor": 5
}
